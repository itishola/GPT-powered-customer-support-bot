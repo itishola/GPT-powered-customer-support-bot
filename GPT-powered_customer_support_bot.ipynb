{
 "cells": [
  {
   "cell_type": "markdown",
   "id": "79fe6a81-90cd-42a3-91c8-86735645a635",
   "metadata": {},
   "source": [
    "### Scenario:\n",
    "A company is testing a GPT-powered customer support bot. It generates answers to customer questions based on internal documents.\n",
    "\n",
    "Given a sample dataset containing:\n",
    "\n",
    "- Customer questions\n",
    "\n",
    "- LLM-generated responses\n",
    "\n",
    "- Expected (human-verified) responses\n",
    "\n",
    "- Optional metadata (confidence scores, categories)\n",
    "\n",
    "The task is to evaluate the quality of the LLM outputs, compare them to expected answers, and make recommendations based on your findings."
   ]
  },
  {
   "cell_type": "code",
   "execution_count": 1,
   "id": "059b503f-d68f-4559-9226-839e69f2edfc",
   "metadata": {},
   "outputs": [],
   "source": [
    "import pandas as pd\n",
    "from sklearn.metrics import accuracy_score, f1_score\n",
    "from rouge_score import rouge_scorer"
   ]
  },
  {
   "cell_type": "code",
   "execution_count": 2,
   "id": "e9d94b08-2a45-4d8e-883f-a05c0b295bac",
   "metadata": {},
   "outputs": [],
   "source": [
    "# Load the dataset\n",
    "df = pd.read_csv(\"llm_evaluation_data.csv\")"
   ]
  },
  {
   "cell_type": "code",
   "execution_count": 3,
   "id": "33131f2e-a432-422d-8088-954790c03e49",
   "metadata": {},
   "outputs": [
    {
     "data": {
      "text/html": [
       "<div>\n",
       "<style scoped>\n",
       "    .dataframe tbody tr th:only-of-type {\n",
       "        vertical-align: middle;\n",
       "    }\n",
       "\n",
       "    .dataframe tbody tr th {\n",
       "        vertical-align: top;\n",
       "    }\n",
       "\n",
       "    .dataframe thead th {\n",
       "        text-align: right;\n",
       "    }\n",
       "</style>\n",
       "<table border=\"1\" class=\"dataframe\">\n",
       "  <thead>\n",
       "    <tr style=\"text-align: right;\">\n",
       "      <th></th>\n",
       "      <th>ID</th>\n",
       "      <th>Question</th>\n",
       "      <th>LLM_Response</th>\n",
       "      <th>Expected_Response</th>\n",
       "      <th>Category</th>\n",
       "      <th>Confidence</th>\n",
       "    </tr>\n",
       "  </thead>\n",
       "  <tbody>\n",
       "    <tr>\n",
       "      <th>0</th>\n",
       "      <td>1</td>\n",
       "      <td>What is the return policy?</td>\n",
       "      <td>You can return items within 15 days of purchase.</td>\n",
       "      <td>Items may be returned within 30 days of purchase.</td>\n",
       "      <td>Policy</td>\n",
       "      <td>0.92</td>\n",
       "    </tr>\n",
       "    <tr>\n",
       "      <th>1</th>\n",
       "      <td>2</td>\n",
       "      <td>How do I reset my password?</td>\n",
       "      <td>Click on ‘Forgot Password’ on the login page a...</td>\n",
       "      <td>Same as LLM response</td>\n",
       "      <td>Tech</td>\n",
       "      <td>0.98</td>\n",
       "    </tr>\n",
       "    <tr>\n",
       "      <th>2</th>\n",
       "      <td>3</td>\n",
       "      <td>Do you offer international shipping?</td>\n",
       "      <td>We only deliver within the United States.</td>\n",
       "      <td>Yes, we ship worldwide via DHL and FedEx.</td>\n",
       "      <td>Shipping</td>\n",
       "      <td>0.89</td>\n",
       "    </tr>\n",
       "  </tbody>\n",
       "</table>\n",
       "</div>"
      ],
      "text/plain": [
       "   ID                              Question  \\\n",
       "0   1            What is the return policy?   \n",
       "1   2           How do I reset my password?   \n",
       "2   3  Do you offer international shipping?   \n",
       "\n",
       "                                        LLM_Response  \\\n",
       "0   You can return items within 15 days of purchase.   \n",
       "1  Click on ‘Forgot Password’ on the login page a...   \n",
       "2          We only deliver within the United States.   \n",
       "\n",
       "                                   Expected_Response  Category  Confidence  \n",
       "0  Items may be returned within 30 days of purchase.    Policy        0.92  \n",
       "1                               Same as LLM response      Tech        0.98  \n",
       "2          Yes, we ship worldwide via DHL and FedEx.  Shipping        0.89  "
      ]
     },
     "execution_count": 3,
     "metadata": {},
     "output_type": "execute_result"
    }
   ],
   "source": [
    "df"
   ]
  },
  {
   "cell_type": "code",
   "execution_count": 4,
   "id": "b94189e9-73e5-48c6-bdb5-90f057cb9cf7",
   "metadata": {},
   "outputs": [],
   "source": [
    "# Binary label for exact match\n",
    "df['is_exact_match'] = df['LLM_Response'].str.strip().str.lower() == df['Expected_Response'].str.strip().str.lower()"
   ]
  },
  {
   "cell_type": "code",
   "execution_count": 5,
   "id": "d02125c7-4408-4542-8efe-d0efcf12b3de",
   "metadata": {},
   "outputs": [
    {
     "name": "stdout",
     "output_type": "stream",
     "text": [
      "Exact Match Accuracy: 0.00\n"
     ]
    }
   ],
   "source": [
    "# Evaluate Accuracy\n",
    "accuracy = df['is_exact_match'].mean()\n",
    "print(f\"Exact Match Accuracy: {accuracy:.2f}\")"
   ]
  },
  {
   "cell_type": "code",
   "execution_count": 6,
   "id": "86d9d4f4-7096-4deb-928e-89c02c034fd2",
   "metadata": {},
   "outputs": [],
   "source": [
    "# ROUGE Evaluation for open-ended questions\n",
    "scorer = rouge_scorer.RougeScorer(['rougeL'], use_stemmer=True)\n",
    "df['rougeL'] = df.apply(lambda row: scorer.score(row['Expected_Response'], row['LLM_Response'])['rougeL'].fmeasure, axis=1)"
   ]
  },
  {
   "cell_type": "code",
   "execution_count": 7,
   "id": "499c72af-3177-408c-a661-723bdbb4c98d",
   "metadata": {},
   "outputs": [
    {
     "name": "stdout",
     "output_type": "stream",
     "text": [
      "Average ROUGE-L Score: 0.22962962962962963\n"
     ]
    }
   ],
   "source": [
    "print(\"Average ROUGE-L Score:\", df['rougeL'].mean())"
   ]
  },
  {
   "cell_type": "code",
   "execution_count": 8,
   "id": "cda1367f-75ec-4b55-9014-7d9b9cbfc073",
   "metadata": {},
   "outputs": [],
   "source": [
    "# Flag hallucinations based on known contradiction (manual rule)\n",
    "df['hallucinated'] = df['is_exact_match'] == False"
   ]
  },
  {
   "cell_type": "code",
   "execution_count": 9,
   "id": "8ce8b9b2-27ec-40a6-9bf5-32f7685363c0",
   "metadata": {},
   "outputs": [
    {
     "name": "stdout",
     "output_type": "stream",
     "text": [
      "\n",
      "Category-Level Evaluation Summary:\n",
      "           ExactMatchRate  HallucinationRate  AvgRougeL\n",
      "Category                                              \n",
      "Policy               0.0                1.0   0.555556\n",
      "Shipping             0.0                1.0   0.133333\n",
      "Tech                 0.0                1.0   0.000000\n"
     ]
    }
   ],
   "source": [
    "# Category-level summary\n",
    "category_stats = df.groupby('Category').agg({\n",
    "    'is_exact_match': 'mean',\n",
    "    'hallucinated': 'mean',\n",
    "    'rougeL': 'mean'\n",
    "}).rename(columns={\n",
    "    'is_exact_match': 'ExactMatchRate',\n",
    "    'hallucinated': 'HallucinationRate',\n",
    "    'rougeL': 'AvgRougeL'\n",
    "})\n",
    "\n",
    "print(\"\\nCategory-Level Evaluation Summary:\\n\", category_stats)"
   ]
  },
  {
   "cell_type": "code",
   "execution_count": 10,
   "id": "4d0c8e99-08bc-406e-a3a5-2ec62a37f056",
   "metadata": {},
   "outputs": [
    {
     "name": "stderr",
     "output_type": "stream",
     "text": [
      "2025-06-26 17:32:27.121618: E external/local_xla/xla/stream_executor/cuda/cuda_fft.cc:467] Unable to register cuFFT factory: Attempting to register factory for plugin cuFFT when one has already been registered\n",
      "WARNING: All log messages before absl::InitializeLog() is called are written to STDERR\n",
      "E0000 00:00:1750955548.267324   23092 cuda_dnn.cc:8579] Unable to register cuDNN factory: Attempting to register factory for plugin cuDNN when one has already been registered\n",
      "E0000 00:00:1750955548.536495   23092 cuda_blas.cc:1407] Unable to register cuBLAS factory: Attempting to register factory for plugin cuBLAS when one has already been registered\n",
      "W0000 00:00:1750955551.035528   23092 computation_placer.cc:177] computation placer already registered. Please check linkage and avoid linking the same target more than once.\n",
      "W0000 00:00:1750955551.035579   23092 computation_placer.cc:177] computation placer already registered. Please check linkage and avoid linking the same target more than once.\n",
      "W0000 00:00:1750955551.035588   23092 computation_placer.cc:177] computation placer already registered. Please check linkage and avoid linking the same target more than once.\n",
      "W0000 00:00:1750955551.035594   23092 computation_placer.cc:177] computation placer already registered. Please check linkage and avoid linking the same target more than once.\n",
      "2025-06-26 17:32:31.252489: I tensorflow/core/platform/cpu_feature_guard.cc:210] This TensorFlow binary is optimized to use available CPU instructions in performance-critical operations.\n",
      "To enable the following instructions: AVX2 FMA, in other operations, rebuild TensorFlow with the appropriate compiler flags.\n",
      "Some weights of RobertaModel were not initialized from the model checkpoint at roberta-large and are newly initialized: ['pooler.dense.bias', 'pooler.dense.weight']\n",
      "You should probably TRAIN this model on a down-stream task to be able to use it for predictions and inference.\n"
     ]
    },
    {
     "name": "stdout",
     "output_type": "stream",
     "text": [
      "calculating scores...\n",
      "computing bert embedding.\n"
     ]
    },
    {
     "data": {
      "application/vnd.jupyter.widget-view+json": {
       "model_id": "b5c3883fc5114b6ca68127789cb0fd9a",
       "version_major": 2,
       "version_minor": 0
      },
      "text/plain": [
       "  0%|          | 0/1 [00:00<?, ?it/s]"
      ]
     },
     "metadata": {},
     "output_type": "display_data"
    },
    {
     "name": "stdout",
     "output_type": "stream",
     "text": [
      "computing greedy matching.\n"
     ]
    },
    {
     "data": {
      "application/vnd.jupyter.widget-view+json": {
       "model_id": "543dd6991e3949a2a820369dfa3f3985",
       "version_major": 2,
       "version_minor": 0
      },
      "text/plain": [
       "  0%|          | 0/1 [00:00<?, ?it/s]"
      ]
     },
     "metadata": {},
     "output_type": "display_data"
    },
    {
     "name": "stdout",
     "output_type": "stream",
     "text": [
      "done in 28.77 seconds, 0.10 sentences/sec\n",
      "Average BERTScore F1: 0.8816\n",
      "                               Question  \\\n",
      "0            What is the return policy?   \n",
      "1           How do I reset my password?   \n",
      "2  Do you offer international shipping?   \n",
      "\n",
      "                                        LLM_Response  \\\n",
      "0   You can return items within 15 days of purchase.   \n",
      "1  Click on ‘Forgot Password’ on the login page a...   \n",
      "2          We only deliver within the United States.   \n",
      "\n",
      "                                   Expected_Response  BERTScore_F1  \\\n",
      "0  Items may be returned within 30 days of purchase.      0.943109   \n",
      "1                               Same as LLM response      0.817941   \n",
      "2          Yes, we ship worldwide via DHL and FedEx.      0.883648   \n",
      "\n",
      "   hallucinated  \n",
      "0          True  \n",
      "1          True  \n",
      "2          True  \n"
     ]
    }
   ],
   "source": [
    "from bert_score import score\n",
    "\n",
    "# Extract reference and hypothesis sentences\n",
    "candidates = df['LLM_Response'].tolist()\n",
    "references = df['Expected_Response'].tolist()\n",
    "\n",
    "# Compute BERTScore (you can change lang or model_type if needed)\n",
    "P, R, F1 = score(candidates, references, lang=\"en\", verbose=True)\n",
    "\n",
    "# Store F1 scores in dataframe\n",
    "df['BERTScore_F1'] = F1.tolist()\n",
    "\n",
    "# Summary\n",
    "print(f\"Average BERTScore F1: {df['BERTScore_F1'].mean():.4f}\")\n",
    "\n",
    "# Compare hallucinated vs non-hallucinated examples\n",
    "print(df[['Question', 'LLM_Response', 'Expected_Response', 'BERTScore_F1', 'hallucinated']])\n"
   ]
  },
  {
   "cell_type": "code",
   "execution_count": 11,
   "id": "777cdbcb-5126-47c7-8d9d-4e0a53118078",
   "metadata": {},
   "outputs": [
    {
     "data": {
      "image/png": "[encoded data removed]",
      "text/plain": [
       "<Figure size 800x400 with 1 Axes>"
      ]
     },
     "metadata": {},
     "output_type": "display_data"
    }
   ],
   "source": [
    "import seaborn as sns\n",
    "import matplotlib.pyplot as plt\n",
    "\n",
    "plt.figure(figsize=(8, 4))\n",
    "sns.histplot(df['BERTScore_F1'], kde=True)\n",
    "plt.title('Distribution of BERTScore F1')\n",
    "plt.xlabel('BERTScore F1')\n",
    "plt.ylabel('Frequency')\n",
    "plt.tight_layout()\n",
    "plt.show()\n"
   ]
  },
  {
   "cell_type": "code",
   "execution_count": null,
   "id": "10bdb5ff-57c2-434d-a740-a715142fcb08",
   "metadata": {},
   "outputs": [],
   "source": []
  }
 ],
 "metadata": {
  "kernelspec": {
   "display_name": "Python [conda env:base] *",
   "language": "python",
   "name": "conda-base-py"
  },
  "language_info": {
   "codemirror_mode": {
    "name": "ipython",
    "version": 3
   },
   "file_extension": ".py",
   "mimetype": "text/x-python",
   "name": "python",
   "nbconvert_exporter": "python",
   "pygments_lexer": "ipython3",
   "version": "3.13.5"
  }
 },
 "nbformat": 4,
 "nbformat_minor": 5
}
